{
 "cells": [
  {
   "cell_type": "code",
   "execution_count": 16,
   "metadata": {},
   "outputs": [],
   "source": [
    "import polars as pl\n",
    "import pytz\n",
    "import yfinance as yf\n",
    "from datetime import datetime"
   ]
  },
  {
   "cell_type": "code",
   "execution_count": 2,
   "metadata": {},
   "outputs": [
    {
     "data": {
      "text/html": [
       "<div><style>\n",
       ".dataframe > thead > tr,\n",
       ".dataframe > tbody > tr {\n",
       "  text-align: right;\n",
       "  white-space: pre-wrap;\n",
       "}\n",
       "</style>\n",
       "<small>shape: (140, 9)</small><table border=\"1\" class=\"dataframe\"><thead><tr><th>ts_event</th><th>Open</th><th>High</th><th>Low</th><th>Close</th><th>Volume</th><th>Dividends</th><th>Stock Splits</th><th>Capital Gains</th></tr><tr><td>datetime[ns, America/New_York]</td><td>f64</td><td>f64</td><td>f64</td><td>f64</td><td>i64</td><td>f64</td><td>f64</td><td>f64</td></tr></thead><tbody><tr><td>2025-02-26 09:00:00 EST</td><td>78.57</td><td>80.050003</td><td>78.047997</td><td>79.065002</td><td>17641275</td><td>0.0</td><td>0.0</td><td>0.0</td></tr><tr><td>2025-02-26 10:00:00 EST</td><td>79.059998</td><td>80.400002</td><td>79.059998</td><td>79.974998</td><td>7941396</td><td>0.0</td><td>0.0</td><td>0.0</td></tr><tr><td>2025-02-26 11:00:00 EST</td><td>79.970001</td><td>80.449898</td><td>79.629997</td><td>80.110001</td><td>6072975</td><td>0.0</td><td>0.0</td><td>0.0</td></tr><tr><td>2025-02-26 12:00:00 EST</td><td>80.139999</td><td>80.300003</td><td>77.845001</td><td>77.860001</td><td>9273837</td><td>0.0</td><td>0.0</td><td>0.0</td></tr><tr><td>2025-02-26 13:00:00 EST</td><td>77.82</td><td>78.220001</td><td>76.690002</td><td>77.3731</td><td>8811807</td><td>0.0</td><td>0.0</td><td>0.0</td></tr><tr><td>&hellip;</td><td>&hellip;</td><td>&hellip;</td><td>&hellip;</td><td>&hellip;</td><td>&hellip;</td><td>&hellip;</td><td>&hellip;</td><td>&hellip;</td></tr><tr><td>2025-03-25 11:00:00 EDT</td><td>67.184998</td><td>67.203697</td><td>66.720001</td><td>66.764999</td><td>5822048</td><td>0.0</td><td>0.0</td><td>0.0</td></tr><tr><td>2025-03-25 12:00:00 EDT</td><td>66.769897</td><td>67.230003</td><td>66.129997</td><td>66.535004</td><td>5652755</td><td>0.0</td><td>0.0</td><td>0.0</td></tr><tr><td>2025-03-25 13:00:00 EDT</td><td>66.540001</td><td>66.995003</td><td>66.4701</td><td>66.775002</td><td>4708939</td><td>0.0</td><td>0.0</td><td>0.0</td></tr><tr><td>2025-03-25 14:00:00 EDT</td><td>66.785004</td><td>66.970001</td><td>66.565002</td><td>66.815002</td><td>4728584</td><td>0.0</td><td>0.0</td><td>0.0</td></tr><tr><td>2025-03-25 15:00:00 EDT</td><td>66.82</td><td>67.349998</td><td>66.82</td><td>67.300003</td><td>5257581</td><td>0.0</td><td>0.0</td><td>0.0</td></tr></tbody></table></div>"
      ],
      "text/plain": [
       "shape: (140, 9)\n",
       "┌────────────────┬───────────┬───────────┬───────────┬───┬──────────┬───────────┬────────┬─────────┐\n",
       "│ ts_event       ┆ Open      ┆ High      ┆ Low       ┆ … ┆ Volume   ┆ Dividends ┆ Stock  ┆ Capital │\n",
       "│ ---            ┆ ---       ┆ ---       ┆ ---       ┆   ┆ ---      ┆ ---       ┆ Splits ┆ Gains   │\n",
       "│ datetime[ns,   ┆ f64       ┆ f64       ┆ f64       ┆   ┆ i64      ┆ f64       ┆ ---    ┆ ---     │\n",
       "│ America/New_Yo ┆           ┆           ┆           ┆   ┆          ┆           ┆ f64    ┆ f64     │\n",
       "│ rk]            ┆           ┆           ┆           ┆   ┆          ┆           ┆        ┆         │\n",
       "╞════════════════╪═══════════╪═══════════╪═══════════╪═══╪══════════╪═══════════╪════════╪═════════╡\n",
       "│ 2025-02-26     ┆ 78.57     ┆ 80.050003 ┆ 78.047997 ┆ … ┆ 17641275 ┆ 0.0       ┆ 0.0    ┆ 0.0     │\n",
       "│ 09:00:00 EST   ┆           ┆           ┆           ┆   ┆          ┆           ┆        ┆         │\n",
       "│ 2025-02-26     ┆ 79.059998 ┆ 80.400002 ┆ 79.059998 ┆ … ┆ 7941396  ┆ 0.0       ┆ 0.0    ┆ 0.0     │\n",
       "│ 10:00:00 EST   ┆           ┆           ┆           ┆   ┆          ┆           ┆        ┆         │\n",
       "│ 2025-02-26     ┆ 79.970001 ┆ 80.449898 ┆ 79.629997 ┆ … ┆ 6072975  ┆ 0.0       ┆ 0.0    ┆ 0.0     │\n",
       "│ 11:00:00 EST   ┆           ┆           ┆           ┆   ┆          ┆           ┆        ┆         │\n",
       "│ 2025-02-26     ┆ 80.139999 ┆ 80.300003 ┆ 77.845001 ┆ … ┆ 9273837  ┆ 0.0       ┆ 0.0    ┆ 0.0     │\n",
       "│ 12:00:00 EST   ┆           ┆           ┆           ┆   ┆          ┆           ┆        ┆         │\n",
       "│ 2025-02-26     ┆ 77.82     ┆ 78.220001 ┆ 76.690002 ┆ … ┆ 8811807  ┆ 0.0       ┆ 0.0    ┆ 0.0     │\n",
       "│ 13:00:00 EST   ┆           ┆           ┆           ┆   ┆          ┆           ┆        ┆         │\n",
       "│ …              ┆ …         ┆ …         ┆ …         ┆ … ┆ …        ┆ …         ┆ …      ┆ …       │\n",
       "│ 2025-03-25     ┆ 67.184998 ┆ 67.203697 ┆ 66.720001 ┆ … ┆ 5822048  ┆ 0.0       ┆ 0.0    ┆ 0.0     │\n",
       "│ 11:00:00 EDT   ┆           ┆           ┆           ┆   ┆          ┆           ┆        ┆         │\n",
       "│ 2025-03-25     ┆ 66.769897 ┆ 67.230003 ┆ 66.129997 ┆ … ┆ 5652755  ┆ 0.0       ┆ 0.0    ┆ 0.0     │\n",
       "│ 12:00:00 EDT   ┆           ┆           ┆           ┆   ┆          ┆           ┆        ┆         │\n",
       "│ 2025-03-25     ┆ 66.540001 ┆ 66.995003 ┆ 66.4701   ┆ … ┆ 4708939  ┆ 0.0       ┆ 0.0    ┆ 0.0     │\n",
       "│ 13:00:00 EDT   ┆           ┆           ┆           ┆   ┆          ┆           ┆        ┆         │\n",
       "│ 2025-03-25     ┆ 66.785004 ┆ 66.970001 ┆ 66.565002 ┆ … ┆ 4728584  ┆ 0.0       ┆ 0.0    ┆ 0.0     │\n",
       "│ 14:00:00 EDT   ┆           ┆           ┆           ┆   ┆          ┆           ┆        ┆         │\n",
       "│ 2025-03-25     ┆ 66.82     ┆ 67.349998 ┆ 66.82     ┆ … ┆ 5257581  ┆ 0.0       ┆ 0.0    ┆ 0.0     │\n",
       "│ 15:00:00 EDT   ┆           ┆           ┆           ┆   ┆          ┆           ┆        ┆         │\n",
       "└────────────────┴───────────┴───────────┴───────────┴───┴──────────┴───────────┴────────┴─────────┘"
      ]
     },
     "execution_count": 2,
     "metadata": {},
     "output_type": "execute_result"
    }
   ],
   "source": [
    "df_tqqq = pl.from_pandas( yf.ticker.Ticker(\"TQQQ\").history(interval=\"1h\", start=\"2025-02-26\", end=\"2025-03-26\").reset_index(names=\"ts_event\") )\n",
    "df_tqqq = df_tqqq.with_columns(\n",
    "    (pl.col(\"ts_event\") - pl.duration(minutes=30)).cast(pl.Datetime(\"ns\", time_zone=\"America/New_York\"))\n",
    ")\n",
    "df_tqqq"
   ]
  },
  {
   "cell_type": "code",
   "execution_count": 3,
   "metadata": {},
   "outputs": [],
   "source": [
    "options_hourly_data_file = r\"C:\\Users\\User\\Desktop\\projects\\trading\\data\\OPRA-20250329-XW7CFKR3PW\\opra-pillar-20250226-20250325.ohlcv-1h.csv\""
   ]
  },
  {
   "cell_type": "code",
   "execution_count": null,
   "metadata": {},
   "outputs": [],
   "source": [
    "from scipy.stats import norm\n",
    "from scipy.optimize import brentq\n",
    "import numpy as np\n",
    "\n",
    "# Black-Scholes price for PUT\n",
    "def bs_put_price(S, K, T, r, sigma):\n",
    "    d1 = (np.log(S/K) + (r + 0.5*sigma**2)*T) / (sigma * np.sqrt(T))\n",
    "    d2 = d1 - sigma * np.sqrt(T)\n",
    "    return K * np.exp(-r*T) * norm.cdf(-d2) - S * norm.cdf(-d1)\n",
    "\n",
    "# Black-Scholes price for CALL\n",
    "def bs_call_price(S, K, T, r, sigma):\n",
    "    d1 = (np.log(S/K) + (r + 0.5*sigma**2)*T) / (sigma * np.sqrt(T))\n",
    "    d2 = d1 - sigma * np.sqrt(T)\n",
    "    return S * norm.cdf(d1) - K * np.exp(-r*T) * norm.cdf(d2)\n",
    "\n",
    "# Scalar root-finder: implied vol for PUT\n",
    "def implied_vol_put_scalar(S, K, T, r, P_market):\n",
    "    if P_market <= 0 or S <= 0 or K <= 0 or T <= 0:\n",
    "        return np.nan\n",
    "    try:\n",
    "        return brentq(lambda sigma: bs_put_price(S, K, T, r, sigma) - P_market, 1e-6, 5.0)\n",
    "    except:\n",
    "        return np.nan\n",
    "\n",
    "# Scalar root-finder: implied vol for CALL\n",
    "def implied_vol_call_scalar(S, K, T, r, C_market):\n",
    "    if C_market <= 0 or S <= 0 or K <= 0 or T <= 0:\n",
    "        return np.nan\n",
    "    try:\n",
    "        return brentq(lambda sigma: bs_call_price(S, K, T, r, sigma) - C_market, 1e-6, 5.0)\n",
    "    except:\n",
    "        return np.nan\n"
   ]
  },
  {
   "cell_type": "code",
   "execution_count": 27,
   "metadata": {},
   "outputs": [
    {
     "data": {
      "text/html": [
       "<div><style>\n",
       ".dataframe > thead > tr,\n",
       ".dataframe > tbody > tr {\n",
       "  text-align: right;\n",
       "  white-space: pre-wrap;\n",
       "}\n",
       "</style>\n",
       "<small>shape: (17_054, 24)</small><table border=\"1\" class=\"dataframe\"><thead><tr><th>ts_event</th><th>rtype</th><th>publisher_id</th><th>instrument_id</th><th>open</th><th>high</th><th>low</th><th>close</th><th>volume</th><th>symbol</th><th>underlying</th><th>expiry</th><th>call_put</th><th>strike</th><th>days_to_expiry</th><th>Open</th><th>High</th><th>Low</th><th>Close</th><th>Volume</th><th>Dividends</th><th>Stock Splits</th><th>Capital Gains</th><th>implied_vol</th></tr><tr><td>datetime[ns, America/New_York]</td><td>i64</td><td>i64</td><td>i64</td><td>f64</td><td>f64</td><td>f64</td><td>f64</td><td>i64</td><td>list[str]</td><td>str</td><td>datetime[ns, America/New_York]</td><td>str</td><td>f64</td><td>i64</td><td>f64</td><td>f64</td><td>f64</td><td>f64</td><td>i64</td><td>f64</td><td>f64</td><td>f64</td><td>f32</td></tr></thead><tbody><tr><td>2025-02-26 09:00:00 EST</td><td>34</td><td>32</td><td>1426078889</td><td>5.4</td><td>5.4</td><td>5.4</td><td>5.4</td><td>4</td><td>[&quot;TQQQ&quot;, &quot;250321P00080000&quot;]</td><td>&quot;TQQQ&quot;</td><td>2025-03-21 00:00:00 EDT</td><td>&quot;P&quot;</td><td>80.0</td><td>22</td><td>78.57</td><td>80.050003</td><td>78.047997</td><td>79.065002</td><td>17641275</td><td>0.0</td><td>0.0</td><td>0.0</td><td>0.649359</td></tr><tr><td>2025-02-26 09:00:00 EST</td><td>34</td><td>29</td><td>1426078889</td><td>5.4</td><td>5.4</td><td>5.4</td><td>5.4</td><td>7</td><td>[&quot;TQQQ&quot;, &quot;250321P00080000&quot;]</td><td>&quot;TQQQ&quot;</td><td>2025-03-21 00:00:00 EDT</td><td>&quot;P&quot;</td><td>80.0</td><td>22</td><td>78.57</td><td>80.050003</td><td>78.047997</td><td>79.065002</td><td>17641275</td><td>0.0</td><td>0.0</td><td>0.0</td><td>0.649359</td></tr><tr><td>2025-02-26 09:00:00 EST</td><td>34</td><td>35</td><td>1442848551</td><td>4.0</td><td>4.0</td><td>4.0</td><td>4.0</td><td>1</td><td>[&quot;TQQQ&quot;, &quot;250228P00081000&quot;]</td><td>&quot;TQQQ&quot;</td><td>2025-02-28 00:00:00 EST</td><td>&quot;P&quot;</td><td>81.0</td><td>1</td><td>78.57</td><td>80.050003</td><td>78.047997</td><td>79.065002</td><td>17641275</td><td>0.0</td><td>0.0</td><td>0.0</td><td>1.759063</td></tr><tr><td>2025-02-26 09:00:00 EST</td><td>34</td><td>32</td><td>1442865848</td><td>2.58</td><td>2.58</td><td>2.14</td><td>2.37</td><td>37</td><td>[&quot;TQQQ&quot;, &quot;250228P00079000&quot;]</td><td>&quot;TQQQ&quot;</td><td>2025-02-28 00:00:00 EST</td><td>&quot;P&quot;</td><td>79.0</td><td>1</td><td>78.57</td><td>80.050003</td><td>78.047997</td><td>79.065002</td><td>17641275</td><td>0.0</td><td>0.0</td><td>0.0</td><td>1.459393</td></tr><tr><td>2025-02-26 09:00:00 EST</td><td>34</td><td>33</td><td>1442865848</td><td>2.37</td><td>2.37</td><td>2.37</td><td>2.37</td><td>1</td><td>[&quot;TQQQ&quot;, &quot;250228P00079000&quot;]</td><td>&quot;TQQQ&quot;</td><td>2025-02-28 00:00:00 EST</td><td>&quot;P&quot;</td><td>79.0</td><td>1</td><td>78.57</td><td>80.050003</td><td>78.047997</td><td>79.065002</td><td>17641275</td><td>0.0</td><td>0.0</td><td>0.0</td><td>1.459393</td></tr><tr><td>&hellip;</td><td>&hellip;</td><td>&hellip;</td><td>&hellip;</td><td>&hellip;</td><td>&hellip;</td><td>&hellip;</td><td>&hellip;</td><td>&hellip;</td><td>&hellip;</td><td>&hellip;</td><td>&hellip;</td><td>&hellip;</td><td>&hellip;</td><td>&hellip;</td><td>&hellip;</td><td>&hellip;</td><td>&hellip;</td><td>&hellip;</td><td>&hellip;</td><td>&hellip;</td><td>&hellip;</td><td>&hellip;</td><td>&hellip;</td></tr><tr><td>2025-02-26 15:00:00 EST</td><td>34</td><td>26</td><td>1442866478</td><td>0.83</td><td>0.95</td><td>0.83</td><td>0.95</td><td>2</td><td>[&quot;TQQQ&quot;, &quot;250328C00091000&quot;]</td><td>&quot;TQQQ&quot;</td><td>2025-03-28 00:00:00 EDT</td><td>&quot;C&quot;</td><td>91.0</td><td>29</td><td>77.610001</td><td>78.43</td><td>77.379997</td><td>78.07</td><td>4177007</td><td>0.0</td><td>0.0</td><td>0.0</td><td>NaN</td></tr><tr><td>2025-02-26 15:00:00 EST</td><td>34</td><td>22</td><td>1442842807</td><td>8.0</td><td>8.0</td><td>6.95</td><td>6.95</td><td>10</td><td>[&quot;TQQQ&quot;, &quot;250228P00085000&quot;]</td><td>&quot;TQQQ&quot;</td><td>2025-02-28 00:00:00 EST</td><td>&quot;P&quot;</td><td>85.0</td><td>1</td><td>77.610001</td><td>78.43</td><td>77.379997</td><td>78.07</td><td>4177007</td><td>0.0</td><td>0.0</td><td>0.0</td><td>0.820786</td></tr><tr><td>2025-02-26 15:00:00 EST</td><td>34</td><td>28</td><td>1442842807</td><td>7.47</td><td>7.47</td><td>7.47</td><td>7.47</td><td>1</td><td>[&quot;TQQQ&quot;, &quot;250228P00085000&quot;]</td><td>&quot;TQQQ&quot;</td><td>2025-02-28 00:00:00 EST</td><td>&quot;P&quot;</td><td>85.0</td><td>1</td><td>77.610001</td><td>78.43</td><td>77.379997</td><td>78.07</td><td>4177007</td><td>0.0</td><td>0.0</td><td>0.0</td><td>1.598461</td></tr><tr><td>2025-02-26 15:00:00 EST</td><td>34</td><td>21</td><td>1442843436</td><td>28.7</td><td>28.7</td><td>28.7</td><td>28.7</td><td>10</td><td>[&quot;TQQQ&quot;, &quot;250328C00050000&quot;]</td><td>&quot;TQQQ&quot;</td><td>2025-03-28 00:00:00 EDT</td><td>&quot;C&quot;</td><td>50.0</td><td>29</td><td>77.610001</td><td>78.43</td><td>77.379997</td><td>78.07</td><td>4177007</td><td>0.0</td><td>0.0</td><td>0.0</td><td>NaN</td></tr><tr><td>2025-02-26 15:00:00 EST</td><td>34</td><td>37</td><td>1442866628</td><td>1.79</td><td>1.79</td><td>1.79</td><td>1.79</td><td>1</td><td>[&quot;TQQQ&quot;, &quot;250404C00088000&quot;]</td><td>&quot;TQQQ&quot;</td><td>2025-04-04 00:00:00 EDT</td><td>&quot;C&quot;</td><td>88.0</td><td>36</td><td>77.610001</td><td>78.43</td><td>77.379997</td><td>78.07</td><td>4177007</td><td>0.0</td><td>0.0</td><td>0.0</td><td>NaN</td></tr></tbody></table></div>"
      ],
      "text/plain": [
       "shape: (17_054, 24)\n",
       "┌─────────────┬───────┬─────────────┬─────────────┬───┬───────────┬────────┬─────────┬─────────────┐\n",
       "│ ts_event    ┆ rtype ┆ publisher_i ┆ instrument_ ┆ … ┆ Dividends ┆ Stock  ┆ Capital ┆ implied_vol │\n",
       "│ ---         ┆ ---   ┆ d           ┆ id          ┆   ┆ ---       ┆ Splits ┆ Gains   ┆ ---         │\n",
       "│ datetime[ns ┆ i64   ┆ ---         ┆ ---         ┆   ┆ f64       ┆ ---    ┆ ---     ┆ f32         │\n",
       "│ , America/N ┆       ┆ i64         ┆ i64         ┆   ┆           ┆ f64    ┆ f64     ┆             │\n",
       "│ ew_York]    ┆       ┆             ┆             ┆   ┆           ┆        ┆         ┆             │\n",
       "╞═════════════╪═══════╪═════════════╪═════════════╪═══╪═══════════╪════════╪═════════╪═════════════╡\n",
       "│ 2025-02-26  ┆ 34    ┆ 32          ┆ 1426078889  ┆ … ┆ 0.0       ┆ 0.0    ┆ 0.0     ┆ 0.649359    │\n",
       "│ 09:00:00    ┆       ┆             ┆             ┆   ┆           ┆        ┆         ┆             │\n",
       "│ EST         ┆       ┆             ┆             ┆   ┆           ┆        ┆         ┆             │\n",
       "│ 2025-02-26  ┆ 34    ┆ 29          ┆ 1426078889  ┆ … ┆ 0.0       ┆ 0.0    ┆ 0.0     ┆ 0.649359    │\n",
       "│ 09:00:00    ┆       ┆             ┆             ┆   ┆           ┆        ┆         ┆             │\n",
       "│ EST         ┆       ┆             ┆             ┆   ┆           ┆        ┆         ┆             │\n",
       "│ 2025-02-26  ┆ 34    ┆ 35          ┆ 1442848551  ┆ … ┆ 0.0       ┆ 0.0    ┆ 0.0     ┆ 1.759063    │\n",
       "│ 09:00:00    ┆       ┆             ┆             ┆   ┆           ┆        ┆         ┆             │\n",
       "│ EST         ┆       ┆             ┆             ┆   ┆           ┆        ┆         ┆             │\n",
       "│ 2025-02-26  ┆ 34    ┆ 32          ┆ 1442865848  ┆ … ┆ 0.0       ┆ 0.0    ┆ 0.0     ┆ 1.459393    │\n",
       "│ 09:00:00    ┆       ┆             ┆             ┆   ┆           ┆        ┆         ┆             │\n",
       "│ EST         ┆       ┆             ┆             ┆   ┆           ┆        ┆         ┆             │\n",
       "│ 2025-02-26  ┆ 34    ┆ 33          ┆ 1442865848  ┆ … ┆ 0.0       ┆ 0.0    ┆ 0.0     ┆ 1.459393    │\n",
       "│ 09:00:00    ┆       ┆             ┆             ┆   ┆           ┆        ┆         ┆             │\n",
       "│ EST         ┆       ┆             ┆             ┆   ┆           ┆        ┆         ┆             │\n",
       "│ …           ┆ …     ┆ …           ┆ …           ┆ … ┆ …         ┆ …      ┆ …       ┆ …           │\n",
       "│ 2025-02-26  ┆ 34    ┆ 26          ┆ 1442866478  ┆ … ┆ 0.0       ┆ 0.0    ┆ 0.0     ┆ NaN         │\n",
       "│ 15:00:00    ┆       ┆             ┆             ┆   ┆           ┆        ┆         ┆             │\n",
       "│ EST         ┆       ┆             ┆             ┆   ┆           ┆        ┆         ┆             │\n",
       "│ 2025-02-26  ┆ 34    ┆ 22          ┆ 1442842807  ┆ … ┆ 0.0       ┆ 0.0    ┆ 0.0     ┆ 0.820786    │\n",
       "│ 15:00:00    ┆       ┆             ┆             ┆   ┆           ┆        ┆         ┆             │\n",
       "│ EST         ┆       ┆             ┆             ┆   ┆           ┆        ┆         ┆             │\n",
       "│ 2025-02-26  ┆ 34    ┆ 28          ┆ 1442842807  ┆ … ┆ 0.0       ┆ 0.0    ┆ 0.0     ┆ 1.598461    │\n",
       "│ 15:00:00    ┆       ┆             ┆             ┆   ┆           ┆        ┆         ┆             │\n",
       "│ EST         ┆       ┆             ┆             ┆   ┆           ┆        ┆         ┆             │\n",
       "│ 2025-02-26  ┆ 34    ┆ 21          ┆ 1442843436  ┆ … ┆ 0.0       ┆ 0.0    ┆ 0.0     ┆ NaN         │\n",
       "│ 15:00:00    ┆       ┆             ┆             ┆   ┆           ┆        ┆         ┆             │\n",
       "│ EST         ┆       ┆             ┆             ┆   ┆           ┆        ┆         ┆             │\n",
       "│ 2025-02-26  ┆ 34    ┆ 37          ┆ 1442866628  ┆ … ┆ 0.0       ┆ 0.0    ┆ 0.0     ┆ NaN         │\n",
       "│ 15:00:00    ┆       ┆             ┆             ┆   ┆           ┆        ┆         ┆             │\n",
       "│ EST         ┆       ┆             ┆             ┆   ┆           ┆        ┆         ┆             │\n",
       "└─────────────┴───────┴─────────────┴─────────────┴───┴───────────┴────────┴─────────┴─────────────┘"
      ]
     },
     "execution_count": 27,
     "metadata": {},
     "output_type": "execute_result"
    }
   ],
   "source": [
    "pl.read_csv(options_hourly_data_file) \\\n",
    "    .with_columns(\n",
    "        pl.col(\"symbol\").str.split(\"  \")\n",
    "    ) \\\n",
    "    .with_columns(\n",
    "        pl.col(\"ts_event\").str.strptime( pl.Datetime(\"ns\", time_zone=pytz.timezone(\"America/New_York\")) ),\n",
    "        pl.col(\"symbol\").list.get(0).alias(\"underlying\"),\n",
    "        pl.col(\"symbol\").list.get(-1).str.slice(0, 6).str.strptime(pl.Date, \"%y%m%d\").cast(pl.Datetime(\"ns\")).dt.replace_time_zone(\"America/New_York\").alias(\"expiry\"),\n",
    "        pl.col(\"symbol\").list.get(-1).str.slice(6, 1).alias(\"call_put\"),\n",
    "        (pl.col(\"symbol\").list.get(-1).str.slice(7).cast(pl.Int64) / 1000.0).alias(\"strike\")\n",
    "    ) \\\n",
    "    .with_columns(\n",
    "        (pl.col(\"expiry\") - pl.col(\"ts_event\")).dt.total_days().alias(\"days_to_expiry\"),\n",
    "    ) \\\n",
    "    .join( df_tqqq, on=\"ts_event\", how=\"left\") \\\n",
    "    .filter( pl.col(\"ts_event\") < pl.lit(\"2025-02-27\").str.strptime(pl.Datetime(\"ns\", time_zone=\"America/New_York\") ) ) \\\n",
    "    .with_columns(\n",
    "        pl.struct([\"Close\", \"strike\", \"days_to_expiry\", \"close\", \"call_put\"]).map_elements(\n",
    "            lambda row: implied_vol_put_scalar(\n",
    "                S=row[\"Close\"],\n",
    "                K=row[\"strike\"],\n",
    "                T=row[\"days_to_expiry\"] / 365,\n",
    "                r=0.05,\n",
    "                P_market=row[\"close\"]\n",
    "            ) if row[\"call_put\"] == \"P\" else np.nan,\n",
    "            return_dtype=pl.Float32\n",
    "        ).alias(\"implied_vol\")\n",
    "    )"
   ]
  },
  {
   "cell_type": "code",
   "execution_count": null,
   "metadata": {},
   "outputs": [],
   "source": []
  }
 ],
 "metadata": {
  "kernelspec": {
   "display_name": "research",
   "language": "python",
   "name": "python3"
  },
  "language_info": {
   "codemirror_mode": {
    "name": "ipython",
    "version": 3
   },
   "file_extension": ".py",
   "mimetype": "text/x-python",
   "name": "python",
   "nbconvert_exporter": "python",
   "pygments_lexer": "ipython3",
   "version": "3.9.18"
  }
 },
 "nbformat": 4,
 "nbformat_minor": 2
}
